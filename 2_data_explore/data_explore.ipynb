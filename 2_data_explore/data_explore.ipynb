{
 "cells": [
  {
   "cell_type": "markdown",
   "metadata": {},
   "source": [
    "**Setup**\n",
    "\n",
    "Importing modules."
   ]
  },
  {
   "cell_type": "code",
   "execution_count": null,
   "metadata": {},
   "outputs": [],
   "source": [
    "import pandas as pd\n",
    "import numpy as np\n",
    "from itables import init_notebook_mode"
   ]
  },
  {
   "cell_type": "markdown",
   "metadata": {},
   "source": [
    "Loading in data from csv."
   ]
  },
  {
   "cell_type": "code",
   "execution_count": null,
   "metadata": {},
   "outputs": [],
   "source": [
    "DF_ORIGINAL = pd.read_csv(\"../1_data_gather/manga.csv\")"
   ]
  },
  {
   "cell_type": "markdown",
   "metadata": {},
   "source": [
    "Filling all null tag and genre features with zero, as that is their implicit value."
   ]
  },
  {
   "cell_type": "code",
   "execution_count": null,
   "metadata": {},
   "outputs": [],
   "source": [
    "ZEROABLE_NUMERIC_COLUMN_NAMES = list(DF_ORIGINAL.drop([\"id\",\"chapters\",\"volumes\",\"start_year\",\"start_month\",\"start_day\",\"end_year\",\"end_month\",\"end_day\"],axis=1).select_dtypes(include=['number']).columns.values)\n",
    "DEFAULT_ZEROES = [0] * len(ZEROABLE_NUMERIC_COLUMN_NAMES)\n",
    "NULL_MAP = dict(zip(ZEROABLE_NUMERIC_COLUMN_NAMES, DEFAULT_ZEROES))\n",
    "ZEROED_DF = DF_ORIGINAL.fillna(value=NULL_MAP)"
   ]
  },
  {
   "cell_type": "markdown",
   "metadata": {},
   "source": [
    "Computing target feature from data."
   ]
  },
  {
   "cell_type": "code",
   "execution_count": null,
   "metadata": {},
   "outputs": [],
   "source": [
    "SHOUNEN_TAG_PCT = ZEROED_DF[\"Shounen\"]\n",
    "SHOUJO_TAG_PCT = ZEROED_DF[\"Shoujo\"]\n",
    "SEINEN_TAG_PCT = ZEROED_DF[\"Seinen\"]\n",
    "JOSEI_TAG_PCT = ZEROED_DF[\"Josei\"]\n",
    "\n",
    "demo_col = []\n",
    "\n",
    "for x in range(ZEROED_DF.shape[0]):\n",
    "    demo_dict = {\"Shounen\": SHOUNEN_TAG_PCT[x],\n",
    "                 \"Shoujo\": SHOUJO_TAG_PCT[x],\n",
    "                 \"Seinen\": SEINEN_TAG_PCT[x],\n",
    "                 \"Josei\": JOSEI_TAG_PCT[x]}\n",
    "    if sum(demo_dict.values()) > 0:\n",
    "         demo_col.append(max(zip(demo_dict.values(), demo_dict.keys()))[1])\n",
    "    else:\n",
    "        demo_col.append(None)\n",
    "    \n",
    "DEMO_ADDED_DF = ZEROED_DF.assign(demo_label = pd.Series(demo_col)).drop([\"Shounen\",\"Shoujo\",\"Seinen\",\"Josei\"], axis=1)"
   ]
  },
  {
   "cell_type": "markdown",
   "metadata": {},
   "source": [
    "**Full-dataset summaries**\n",
    "\n",
    "Checking summary statistics on numeric features, excluding the media ID."
   ]
  },
  {
   "cell_type": "code",
   "execution_count": null,
   "metadata": {},
   "outputs": [],
   "source": [
    "# Display data frames interactively\n",
    "init_notebook_mode(all_interactive=True)\n",
    "\n",
    "# Computing summary statistics for numeric columns, excluding the ID, adding in an explicit percentage of null values.\n",
    "summary_df = DEMO_ADDED_DF.drop(\"id\", axis=1).describe(include=np.number)\n",
    "summary_df.loc[\"pct_null\"] = DEMO_ADDED_DF.isna().mean().map(\"{:.1%}\".format)\n",
    "summary_df = summary_df.transpose()\n",
    "summary_df = summary_df[['pct_null'] + [x for x in summary_df.columns if x != 'pct_null']]\n",
    "summary_df"
   ]
  }
 ],
 "metadata": {
  "kernelspec": {
   "display_name": "Python 3",
   "language": "python",
   "name": "python3"
  },
  "language_info": {
   "codemirror_mode": {
    "name": "ipython",
    "version": 3
   },
   "file_extension": ".py",
   "mimetype": "text/x-python",
   "name": "python",
   "nbconvert_exporter": "python",
   "pygments_lexer": "ipython3",
   "version": "3.12.3"
  }
 },
 "nbformat": 4,
 "nbformat_minor": 2
}
