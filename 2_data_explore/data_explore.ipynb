{
 "cells": [
  {
   "cell_type": "markdown",
   "metadata": {},
   "source": [
    "# Setup\n",
    "\n",
    "Importing modules."
   ]
  },
  {
   "cell_type": "code",
   "execution_count": null,
   "metadata": {},
   "outputs": [],
   "source": [
    "import pandas as pd\n",
    "import numpy as np\n",
    "from itables import init_notebook_mode\n",
    "import missingno as msno\n",
    "import seaborn as sns"
   ]
  },
  {
   "cell_type": "markdown",
   "metadata": {},
   "source": [
    "Loading in data from csv."
   ]
  },
  {
   "cell_type": "code",
   "execution_count": null,
   "metadata": {},
   "outputs": [],
   "source": [
    "DF_ORIGINAL = pd.read_csv(\"../data/manga.csv\")"
   ]
  },
  {
   "cell_type": "markdown",
   "metadata": {},
   "source": [
    "Filling all null tag and genre features with zero, as that is their implicit value."
   ]
  },
  {
   "cell_type": "code",
   "execution_count": null,
   "metadata": {},
   "outputs": [],
   "source": [
    "ZEROABLE_NUMERIC_COLUMN_NAMES = list(DF_ORIGINAL.drop([\"id\",\"chapters\",\"volumes\",\"start_year\",\"start_month\",\"start_day\",\"end_year\",\"end_month\",\"end_day\"],axis=1).select_dtypes(include=['number']).columns.values)\n",
    "DEFAULT_ZEROES = [0] * len(ZEROABLE_NUMERIC_COLUMN_NAMES)\n",
    "NULL_MAP = dict(zip(ZEROABLE_NUMERIC_COLUMN_NAMES, DEFAULT_ZEROES))\n",
    "ZEROED_DF = DF_ORIGINAL.fillna(value=NULL_MAP)"
   ]
  },
  {
   "cell_type": "markdown",
   "metadata": {},
   "source": [
    "Computing target feature from data."
   ]
  },
  {
   "cell_type": "code",
   "execution_count": null,
   "metadata": {},
   "outputs": [],
   "source": [
    "SHOUNEN_TAG_PCT = ZEROED_DF[\"Shounen\"]\n",
    "SHOUJO_TAG_PCT = ZEROED_DF[\"Shoujo\"]\n",
    "SEINEN_TAG_PCT = ZEROED_DF[\"Seinen\"]\n",
    "JOSEI_TAG_PCT = ZEROED_DF[\"Josei\"]\n",
    "\n",
    "demo_col = []\n",
    "\n",
    "for x in range(ZEROED_DF.shape[0]):\n",
    "    demo_dict = {\"Shounen\": SHOUNEN_TAG_PCT[x],\n",
    "                 \"Shoujo\": SHOUJO_TAG_PCT[x],\n",
    "                 \"Seinen\": SEINEN_TAG_PCT[x],\n",
    "                 \"Josei\": JOSEI_TAG_PCT[x]}\n",
    "    \n",
    "    if sum(demo_dict.values()) > 0:   \n",
    "        max_vk = max(((v, k) for (k, v) in demo_dict.items()))\n",
    "        demo_label = max_vk[1]\n",
    "    else:\n",
    "        demo_label = None\n",
    "    \n",
    "    demo_col.append(demo_label)\n",
    "    del demo_label\n",
    "    \n",
    "DEMO_ADDED_DF = (ZEROED_DF\n",
    "                 .assign(demo_label = pd.Series(demo_col))\n",
    "                 .drop([\"Shounen\",\"Shoujo\",\"Seinen\",\"Josei\"], axis=1))"
   ]
  },
  {
   "cell_type": "markdown",
   "metadata": {},
   "source": [
    "Separating out the \"usable\" data, i.e. the data with non-missing labels."
   ]
  },
  {
   "cell_type": "code",
   "execution_count": null,
   "metadata": {},
   "outputs": [],
   "source": [
    "usable_df = DEMO_ADDED_DF.dropna(subset=\"demo_label\")"
   ]
  },
  {
   "cell_type": "markdown",
   "metadata": {},
   "source": [
    "# Full-dataset summaries\n",
    "\n",
    "Viewing a few records of data frame."
   ]
  },
  {
   "cell_type": "code",
   "execution_count": null,
   "metadata": {},
   "outputs": [],
   "source": [
    "# Display data frames interactively\n",
    "init_notebook_mode(all_interactive=True)\n",
    "\n",
    "usable_df.head()"
   ]
  },
  {
   "cell_type": "code",
   "execution_count": null,
   "metadata": {},
   "outputs": [],
   "source": [
    "usable_df.tail()"
   ]
  },
  {
   "cell_type": "markdown",
   "metadata": {},
   "source": [
    "Checking shape of data."
   ]
  },
  {
   "cell_type": "code",
   "execution_count": null,
   "metadata": {},
   "outputs": [],
   "source": [
    "usable_df.shape"
   ]
  },
  {
   "cell_type": "markdown",
   "metadata": {},
   "source": [
    "Checking summary statistics on numeric features, excluding the media ID."
   ]
  },
  {
   "cell_type": "code",
   "execution_count": null,
   "metadata": {},
   "outputs": [],
   "source": [
    "# Computing summary statistics for numeric columns, excluding the ID, adding in an explicit percentage of null values.\n",
    "summary_df = usable_df.drop(\"id\", axis=1).describe(include=np.number)\n",
    "summary_df.loc[\"pct_null\"] = [f\"{pct:0.2%}\" for pct in DEMO_ADDED_DF\n",
    "                              .drop(\"id\", axis=1)\n",
    "                              .select_dtypes(include=np.number)\n",
    "                              .isna().mean().tolist()]\n",
    "summary_df = summary_df.transpose()\n",
    "summary_df"
   ]
  },
  {
   "cell_type": "markdown",
   "metadata": {},
   "source": [
    "Checking the central tendency of each feature, conditioned on our labels."
   ]
  },
  {
   "cell_type": "code",
   "execution_count": null,
   "metadata": {},
   "outputs": [],
   "source": [
    "usable_df.groupby(\"demo_label\").describe().transpose().reset_index().rename(columns={\"level_0\": \"feature\", \"level_1\":\"metric\"}).rename_axis(None, axis=1).query(\"metric in ['mean', '50%']\")"
   ]
  },
  {
   "cell_type": "markdown",
   "metadata": {},
   "source": [
    "The results of the summaries by group are interesting, because they frequently fly in the face of received wisdom about the demographic labels. It reminds us that there is a non-response bias in the tag completion rate which we may need to account for during feature extraction.\n",
    "\n",
    "Checking summary statistics for categorical features as well, excluding names of media."
   ]
  },
  {
   "cell_type": "code",
   "execution_count": null,
   "metadata": {},
   "outputs": [],
   "source": [
    "def cat_summary_frame(df, colname, naincl = False):\n",
    "\n",
    "    \"\"\"\n",
    "    Within the dataframe passed as the first argument to this function, \n",
    "    summarizes the count of each level of the feature whose name is \n",
    "    passed as the second argument, as well as the percentage of total \n",
    "    observations each count represents.\n",
    "    \"\"\"\n",
    "\n",
    "    summ_df = df.groupby(colname, dropna = naincl).size().to_frame().rename(columns={0: \"count\"})\n",
    "    summ_df = summ_df.assign(pct = round((summ_df[\"count\"] / summ_df[\"count\"].sum()) * 100, 2))\n",
    "    summ_df = summ_df.assign(pct = summ_df[\"pct\"].astype(\"string\"))\n",
    "    summ_df = summ_df.assign(pct = summ_df[\"pct\"] + \"%\")\n",
    "    return summ_df.sort_values(\"count\", ascending=False).reset_index()\n",
    "\n",
    "cat_summary_frame(usable_df, \"status\")"
   ]
  },
  {
   "cell_type": "code",
   "execution_count": null,
   "metadata": {},
   "outputs": [],
   "source": [
    "cat_summary_frame(usable_df, \"source\")"
   ]
  },
  {
   "cell_type": "code",
   "execution_count": null,
   "metadata": {},
   "outputs": [],
   "source": [
    "cat_summary_frame(usable_df, \"country\")"
   ]
  },
  {
   "cell_type": "code",
   "execution_count": null,
   "metadata": {},
   "outputs": [],
   "source": [
    "cat_summary_frame(usable_df, \"demo_label\")"
   ]
  },
  {
   "cell_type": "markdown",
   "metadata": {},
   "source": [
    "# Examining Missingness\n",
    "\n",
    "Using visualizations to identify patterns in missingness."
   ]
  },
  {
   "cell_type": "code",
   "execution_count": null,
   "metadata": {},
   "outputs": [],
   "source": [
    "features_with_missingness = usable_df.isna().any(axis=0).to_frame().rename(columns={0: \"is_na\"}).query(\"is_na\").index.tolist()\n",
    "df_for_missing_dendogram = usable_df[features_with_missingness]\n",
    "df_for_missing_matrix = df_for_missing_dendogram.sample(200, random_state=1234)\n",
    "msno.matrix(df_for_missing_matrix)"
   ]
  },
  {
   "cell_type": "code",
   "execution_count": null,
   "metadata": {},
   "outputs": [],
   "source": [
    "msno.heatmap(usable_df)"
   ]
  },
  {
   "cell_type": "code",
   "execution_count": null,
   "metadata": {},
   "outputs": [],
   "source": [
    "msno.dendrogram(df_for_missing_dendogram)"
   ]
  },
  {
   "cell_type": "markdown",
   "metadata": {},
   "source": [
    "Through these visualizations we can see that there are two main groupings of features whose missingness is relatively highly correlated:\n",
    " - start_month, start_day, start_year, and source\n",
    " - end_year, end_month, end_day, chapters, and volumes\n",
    "\n",
    "I would hypothesize that much of the missingness in the first group is negatively correlated with the level of a manga's popularity. The reason for this is that I suspect these are cases where manga with smaller fanbases have fewer people willing to research and/or contribute data to complete the start date, status, or source of that particular manga.\n",
    "\n",
    "I would also hypothesize that the missingness of the second group is correlated with the status of a manga, because oftentimes the convention on the site is to leave things like the end date and number of chapters and volumes blank until the work has reached its conclusion.\n",
    "\n",
    "We will display a correlation heatmap that includes missingness on one axis and features that have a correlation of at least .2 with at least one of the missingness indicators on the other axis in order to investigate these hypotheses."
   ]
  },
  {
   "cell_type": "code",
   "execution_count": null,
   "metadata": {},
   "outputs": [],
   "source": [
    "missing_indicator_df = df_for_missing_dendogram.isna().add_prefix(\"MISSING_\")\n",
    "dummy_df = pd.get_dummies(usable_df.drop([\"eng_title\",\"rom_title\",\"id\"], axis=\"columns\"))\n",
    "missingness_corr = pd.concat([missing_indicator_df, dummy_df], axis=\"columns\").corr()[missing_indicator_df.columns.tolist()]\n",
    "high_corr_features = missingness_corr.abs().ge(.2).any(axis=\"columns\").to_frame().rename(columns={0: \"high_corr\"}).query(\"high_corr\").filter(regex=\"^(?!MISSING_).*\", axis=0).index.tolist()\n",
    "missingness_corr_2 = missingness_corr.filter(items=high_corr_features, axis=0)\n",
    "sns.heatmap(missingness_corr_2, cmap=\"bwr\", center=0)"
   ]
  },
  {
   "cell_type": "markdown",
   "metadata": {},
   "source": [
    "##### Group 1\n",
    "My hypothesis about the first group can likely be rejected-- missingness in the start month and day seem to be moderately negatively correlated with start_year and end_year, likely indicating that older works are more likely to have missing data in these features than newer works. Missingness in start_year and source did not clearly correlate with any features.\n",
    "\n",
    "##### Group 2\n",
    "We likely cannot reject my hypothesis about the second group, as missingness in chapters, volumes, and end dates are highly positively correlated with a status of \"releasing\" and highly negatively correlated with a status of \"finished\". This provides us with valuable insight for how we might handle missing values in these features in the future.\n",
    "\n",
    "##### Other Features\n",
    "Missingness in eng_title seems to be highly correlated with a number of features that I believe are likely to scale along with popularity. We will explore this further later.\n",
    "\n",
    "##### Further Research\n",
    "More investigation into the mechanism for missingness in the future may involve additional sampling from outside AniList to find the characteristics of the missing data, and whether it differs from the data we have access to. Additionally, performing Little's Test in order to check if data is missing completely at random. Finally, if it seems likely that we have missing at random data, validating this by checking the characteristics of missingness within defined groups.\n",
    "\n",
    "# Correlation\n",
    "\n",
    "Next, we will explore correlation in our data, both between pairs of features and between each feature and our label."
   ]
  },
  {
   "cell_type": "code",
   "execution_count": null,
   "metadata": {},
   "outputs": [],
   "source": [
    "correlation = dummy_df.corr()\n",
    "upper_corr = correlation.where( \n",
    "    np.triu(np.ones(correlation.shape), k=1).astype(np.bool))\n",
    "unstacked_corr = upper_corr.unstack().dropna()\n",
    "unstacked_corr_2 = unstacked_corr\n",
    "unstacked_corr_2.index = unstacked_corr.index.map(' & '.join)\n",
    "sorted_unstacked_corr = unstacked_corr_2.reindex(unstacked_corr_2.abs().sort_values(ascending=False).index)\n",
    "\n",
    "def highest_correlation(data, threshold, regex=\".*\"):\n",
    "    \"\"\"\n",
    "    Takes the series passed to this function and outputs a list of correlated\n",
    "    pairs that pass the desired threshold of correlation and include the\n",
    "    variable name passed in regex.\n",
    "    \"\"\"\n",
    "\n",
    "    return data.filter(regex=regex).loc[lambda x: (x > threshold) | (x < -threshold)]\n",
    "\n",
    "highest_correlation(data=sorted_unstacked_corr, threshold=0.75)"
   ]
  },
  {
   "cell_type": "code",
   "execution_count": null,
   "metadata": {},
   "outputs": [],
   "source": [
    "highest_correlation(data=sorted_unstacked_corr, threshold=0.15, regex=\"demo_label\")"
   ]
  },
  {
   "cell_type": "code",
   "execution_count": null,
   "metadata": {},
   "outputs": [],
   "source": [
    "highest_correlation(data=sorted_unstacked_corr, threshold=0.05, regex=\"Josei\")"
   ]
  },
  {
   "cell_type": "code",
   "execution_count": null,
   "metadata": {},
   "outputs": [],
   "source": [
    "highest_correlation(data=sorted_unstacked_corr, threshold=0.15, regex=\"Full Color\")"
   ]
  },
  {
   "cell_type": "markdown",
   "metadata": {},
   "source": [
    "The list of the most highly correlated pairs reveals some patterns that may be important for feature reduction and feature extraction later on:\n",
    " - There are a number of features with perfect correlation, likely due to the gender field on characters in one particular manga or franchise containing several unique values. \n",
    " - Features that scale along with the popularity of the manga (such as the score bucket features, user status features, and favorites) tend to be highly correlated with each other, as you might expect. This means that these features provide little new information except in context with one another.\n",
    " - End year and start year are highly correlated.\n",
    " - the anime relation and the adaptation relation are highly correlated, likely indicating that if a manga is adapted into something else that shows up on the site it will almost always be an anime.\n",
    " - Male background roles and female background roles both scale with total background roles. This seems to be true to a lesser extent with supporting and main roles as well. These features mainly provide additional information in context with one another, as with the popularity-scaling features.\n",
    " - Categorical indicators tend to be negatively correlated with one another, as we would expect.\n",
    "\n",
    "Some interesting observations regarding correlations with our labels:\n",
    " - Shoujo and the romance genre, the heterosexual tag, and the male harem tag are positively correlated\n",
    " - Shoujo and the action genre, the ecchi genre, and the male protagonist tag are negatively correlated.\n",
    " - Shounen and the action genre, the recorded size of the supporting cast, the recorded size of the male main cast, the adventure genre, the male protagonist tag, and the number of related manga are positively correlated.\n",
    " - Shounen and the romance genre are negatively correlated.\n",
    " - Seinen, the nudity tag, and the ecchi genre are positively correlated.\n",
    " - Seinen and the romance genre are negatively correlated.\n",
    " - Josei and the primarily adult cast tag are positively correlated."
   ]
  }
 ],
 "metadata": {
  "kernelspec": {
   "display_name": "Python 3",
   "language": "python",
   "name": "python3"
  },
  "language_info": {
   "codemirror_mode": {
    "name": "ipython",
    "version": 3
   },
   "file_extension": ".py",
   "mimetype": "text/x-python",
   "name": "python",
   "nbconvert_exporter": "python",
   "pygments_lexer": "ipython3",
   "version": "3.12.3"
  }
 },
 "nbformat": 4,
 "nbformat_minor": 2
}
