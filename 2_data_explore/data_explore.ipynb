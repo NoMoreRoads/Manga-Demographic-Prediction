{
 "cells": [
  {
   "cell_type": "markdown",
   "metadata": {},
   "source": [
    "# Setup\n",
    "\n",
    "Importing modules."
   ]
  },
  {
   "cell_type": "code",
   "execution_count": null,
   "metadata": {},
   "outputs": [],
   "source": [
    "import pandas as pd\n",
    "import numpy as np\n",
    "from itables import init_notebook_mode\n",
    "import missingno as msno\n",
    "import seaborn as sns"
   ]
  },
  {
   "cell_type": "markdown",
   "metadata": {},
   "source": [
    "Loading in data from csv."
   ]
  },
  {
   "cell_type": "code",
   "execution_count": null,
   "metadata": {},
   "outputs": [],
   "source": [
    "DF_ORIGINAL = pd.read_csv(\"../data/manga.csv\")"
   ]
  },
  {
   "cell_type": "markdown",
   "metadata": {},
   "source": [
    "Filling all null tag and genre features with zero, as that is their implicit value."
   ]
  },
  {
   "cell_type": "code",
   "execution_count": null,
   "metadata": {},
   "outputs": [],
   "source": [
    "ZEROABLE_NUMERIC_COLUMN_NAMES = list(DF_ORIGINAL.drop([\"id\",\"chapters\",\"volumes\",\"start_year\",\"start_month\",\"start_day\",\"end_year\",\"end_month\",\"end_day\"],axis=1).select_dtypes(include=['number']).columns.values)\n",
    "DEFAULT_ZEROES = [0] * len(ZEROABLE_NUMERIC_COLUMN_NAMES)\n",
    "NULL_MAP = dict(zip(ZEROABLE_NUMERIC_COLUMN_NAMES, DEFAULT_ZEROES))\n",
    "ZEROED_DF = DF_ORIGINAL.fillna(value=NULL_MAP)"
   ]
  },
  {
   "cell_type": "markdown",
   "metadata": {},
   "source": [
    "Computing target feature from data."
   ]
  },
  {
   "cell_type": "code",
   "execution_count": null,
   "metadata": {},
   "outputs": [],
   "source": [
    "SHOUNEN_TAG_PCT = ZEROED_DF[\"Shounen\"]\n",
    "SHOUJO_TAG_PCT = ZEROED_DF[\"Shoujo\"]\n",
    "SEINEN_TAG_PCT = ZEROED_DF[\"Seinen\"]\n",
    "JOSEI_TAG_PCT = ZEROED_DF[\"Josei\"]\n",
    "\n",
    "demo_col = []\n",
    "\n",
    "for x in range(ZEROED_DF.shape[0]):\n",
    "    demo_dict = {\"Shounen\": SHOUNEN_TAG_PCT[x],\n",
    "                 \"Shoujo\": SHOUJO_TAG_PCT[x],\n",
    "                 \"Seinen\": SEINEN_TAG_PCT[x],\n",
    "                 \"Josei\": JOSEI_TAG_PCT[x]}\n",
    "    \n",
    "    if sum(demo_dict.values()) > 0:   \n",
    "        max_vk = max(((v, k) for (k, v) in demo_dict.items()))\n",
    "        demo_label = max_vk[1]\n",
    "    else:\n",
    "        demo_label = None\n",
    "    \n",
    "    demo_col.append(demo_label)\n",
    "    del demo_label\n",
    "    \n",
    "DEMO_ADDED_DF = (ZEROED_DF\n",
    "                 .assign(demo_label = pd.Series(demo_col))\n",
    "                 .drop([\"Shounen\",\"Shoujo\",\"Seinen\",\"Josei\"], axis=1))"
   ]
  },
  {
   "cell_type": "markdown",
   "metadata": {},
   "source": [
    "# Full-dataset summaries\n",
    "\n",
    "Viewing a few records of data frame."
   ]
  },
  {
   "cell_type": "code",
   "execution_count": null,
   "metadata": {},
   "outputs": [],
   "source": [
    "DEMO_ADDED_DF.head()"
   ]
  },
  {
   "cell_type": "code",
   "execution_count": null,
   "metadata": {},
   "outputs": [],
   "source": [
    "DEMO_ADDED_DF.tail()"
   ]
  },
  {
   "cell_type": "markdown",
   "metadata": {},
   "source": [
    "Checking shape of data."
   ]
  },
  {
   "cell_type": "code",
   "execution_count": null,
   "metadata": {},
   "outputs": [],
   "source": [
    "DEMO_ADDED_DF.shape"
   ]
  },
  {
   "cell_type": "markdown",
   "metadata": {},
   "source": [
    "Checking summary statistics on numeric features, excluding the media ID."
   ]
  },
  {
   "cell_type": "code",
   "execution_count": null,
   "metadata": {},
   "outputs": [],
   "source": [
    "# Display data frames interactively\n",
    "init_notebook_mode(all_interactive=True)\n",
    "\n",
    "# Computing summary statistics for numeric columns, excluding the ID, adding in an explicit percentage of null values.\n",
    "summary_df = DEMO_ADDED_DF.drop(\"id\", axis=1).describe(include=np.number)\n",
    "summary_df.loc[\"pct_null\"] = [f\"{pct:0.2%}\" for pct in DEMO_ADDED_DF\n",
    "                              .drop(\"id\", axis=1)\n",
    "                              .select_dtypes(include=np.number)\n",
    "                              .isna().mean().tolist()]\n",
    "summary_df = summary_df.transpose()\n",
    "summary_df"
   ]
  },
  {
   "cell_type": "markdown",
   "metadata": {},
   "source": [
    "Checking summary statistics for categorical features as well, excluding names of media."
   ]
  },
  {
   "cell_type": "code",
   "execution_count": null,
   "metadata": {},
   "outputs": [],
   "source": [
    "def cat_summary_frame(df, colname, naincl = False):\n",
    "\n",
    "    \"\"\"\n",
    "    Within the dataframe passed as the first argument to this function, \n",
    "    summarizes the count of each level of the feature whose name is \n",
    "    passed as the second argument, as well as the percentage of total \n",
    "    observations each count represents.\n",
    "    \"\"\"\n",
    "\n",
    "    summ_df = df.groupby(colname, dropna = naincl).size().to_frame().rename(columns={0: \"count\"})\n",
    "    summ_df = summ_df.assign(pct = round((summ_df[\"count\"] / summ_df[\"count\"].sum()) * 100, 2))\n",
    "    summ_df = summ_df.assign(pct = summ_df[\"pct\"].astype(\"string\"))\n",
    "    summ_df = summ_df.assign(pct = summ_df[\"pct\"] + \"%\")\n",
    "    return summ_df.sort_values(\"count\", ascending=False).reset_index()\n",
    "\n",
    "cat_summary_frame(DEMO_ADDED_DF, \"status\")"
   ]
  },
  {
   "cell_type": "code",
   "execution_count": null,
   "metadata": {},
   "outputs": [],
   "source": [
    "cat_summary_frame(DEMO_ADDED_DF, \"source\")"
   ]
  },
  {
   "cell_type": "code",
   "execution_count": null,
   "metadata": {},
   "outputs": [],
   "source": [
    "cat_summary_frame(DEMO_ADDED_DF, \"country\")"
   ]
  },
  {
   "cell_type": "code",
   "execution_count": null,
   "metadata": {},
   "outputs": [],
   "source": [
    "cat_summary_frame(DEMO_ADDED_DF, \"demo_label\")"
   ]
  },
  {
   "cell_type": "code",
   "execution_count": null,
   "metadata": {},
   "outputs": [],
   "source": [
    "# Running demo again to see the percentages of each label without missing data included.\n",
    "cat_summary_frame(DEMO_ADDED_DF, \"demo_label\", True)"
   ]
  },
  {
   "cell_type": "markdown",
   "metadata": {},
   "source": [
    "# Examining Missingness\n",
    "\n",
    "Using visualizations to identify patterns in missingness."
   ]
  },
  {
   "cell_type": "code",
   "execution_count": null,
   "metadata": {},
   "outputs": [],
   "source": [
    "features_with_missingness = DEMO_ADDED_DF.isna().any(axis=0).to_frame().rename(columns={0: \"is_na\"}).query(\"is_na\").index.tolist()\n",
    "df_for_missing_dendogram = DEMO_ADDED_DF[features_with_missingness]\n",
    "df_for_missing_matrix = df_for_missing_dendogram.sample(200, random_state=1234)\n",
    "msno.matrix(df_for_missing_matrix)"
   ]
  },
  {
   "cell_type": "code",
   "execution_count": null,
   "metadata": {},
   "outputs": [],
   "source": [
    "msno.heatmap(DEMO_ADDED_DF)"
   ]
  },
  {
   "cell_type": "code",
   "execution_count": null,
   "metadata": {},
   "outputs": [],
   "source": [
    "msno.dendrogram(df_for_missing_dendogram)"
   ]
  },
  {
   "cell_type": "markdown",
   "metadata": {},
   "source": [
    "Through these visualizations we can see that there are two main groupings of features whose missingness is relatively highly correlated:\n",
    " - start_month, start_day, start_year, status, and source\n",
    " - end_year, end_month, end_day, chapters, and volumes\n",
    "\n",
    "I would hypothesize that much of the missingness in the first group is negatively correlated with the level of a manga's popularity. The reason for this is that I suspect these are cases where manga with smaller fanbases have fewer people willing to research and/or contribute data to complete the start date, status, or source of that particular manga.\n",
    "\n",
    "I would also hypothesize that the missingness of the second group is correlated with the status of a manga, because oftentimes the convention on the site is to leave things like the end date and number of chapters and volumes blank until the work has reached its conclusion.\n",
    "\n",
    "We will display a correlation heatmap that includes missingness on one axis and features that have a correlation of at least .2 with at least one of the missingness indicators on the other axis in order to investigate these hypotheses."
   ]
  },
  {
   "cell_type": "code",
   "execution_count": null,
   "metadata": {},
   "outputs": [],
   "source": [
    "missing_indicator_df = df_for_missing_dendogram.isna().add_prefix(\"MISSING_\")\n",
    "dummy_df = pd.get_dummies(DEMO_ADDED_DF.drop([\"eng_title\",\"rom_title\",\"id\"], axis=\"columns\"))\n",
    "missingness_corr = pd.concat([missing_indicator_df, dummy_df], axis=\"columns\").corr()[missing_indicator_df.columns.tolist()]\n",
    "high_corr_features = missingness_corr.abs().ge(.2).any(axis=\"columns\").to_frame().rename(columns={0: \"high_corr\"}).query(\"high_corr\").filter(regex=\"^(?!MISSING_).*\", axis=0).index.tolist()\n",
    "missingness_corr_2 = missingness_corr.filter(items=high_corr_features, axis=0)\n",
    "sns.heatmap(missingness_corr_2, cmap=\"bwr\", center=0)"
   ]
  },
  {
   "cell_type": "markdown",
   "metadata": {},
   "source": [
    "##### Group 1\n",
    "My hypothesis about the first group can likely be rejected-- missingness in the start month and day seem to be moderately negatively correlated with start_year and end_year, likely indicating that older works are more likely to have missing data in these features than newer works. Missingness in start_year, status and source did not clearly correlate with any features.\n",
    "\n",
    "##### Group 2\n",
    "We likely cannot reject my hypothesis about the second group, as missingness in chapters, volumes, and end dates are highly positively correlated with a status of \"releasing\" and highly negatively correlated with a status of \"finished\". This provides us with valuable insight for how we might handle missing values in these features in the future.\n",
    "\n",
    "##### Other Features\n",
    "Source missingness seems to be slightly positively correlated with finished manga, and slightly negatively correlated with start_year. This might indicate that older manga (which might be more likely to be finished) are less likely to have fans on the site who have taken the time to add a source label.\n",
    "\n",
    "Missingness in the demographic label (which will comprise the manga whose labels we would like to predict) is positively correlated with being from Korea, the full color tag, and the boys' love tag. The country correlation makes sense to me, as I believe the demographic labels we are using for this project are largely a Japanese invention. For the full color tag, I hypothesize that a manga being from Korea and being full color is highly correlated, based on my previous experience as an AniList user. Consulting with a colleague about the boys' love association, it seems that boys' love may be in some ways be considered a demographic category in its own right, as it sounds like there may be [boys' love specific magazines](https://en.wikipedia.org/wiki/Dear%2B) in Japan.\n",
    "\n",
    "##### Further Research\n",
    "More investigation into the mechanism for missingness in the future may involve additional sampling from outside AniList to find the characteristics of the missing data, and if it differs from the data we have access to. Additionally, performing Little's Test in order to check if data is missing completely at random. Finally, if it seems likely that we have missing at random data, validating this by checking the characteristics of missingness within defined groups."
   ]
  }
 ],
 "metadata": {
  "kernelspec": {
   "display_name": "Python 3",
   "language": "python",
   "name": "python3"
  },
  "language_info": {
   "codemirror_mode": {
    "name": "ipython",
    "version": 3
   },
   "file_extension": ".py",
   "mimetype": "text/x-python",
   "name": "python",
   "nbconvert_exporter": "python",
   "pygments_lexer": "ipython3",
   "version": "3.12.3"
  }
 },
 "nbformat": 4,
 "nbformat_minor": 2
}
