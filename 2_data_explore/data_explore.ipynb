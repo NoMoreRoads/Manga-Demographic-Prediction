{
 "cells": [
  {
   "cell_type": "markdown",
   "metadata": {},
   "source": [
    "# Setup\n",
    "\n",
    "Importing modules."
   ]
  },
  {
   "cell_type": "code",
   "execution_count": null,
   "metadata": {},
   "outputs": [],
   "source": [
    "import pandas as pd\n",
    "import numpy as np\n",
    "from itables import init_notebook_mode"
   ]
  },
  {
   "cell_type": "markdown",
   "metadata": {},
   "source": [
    "Loading in data from csv."
   ]
  },
  {
   "cell_type": "code",
   "execution_count": null,
   "metadata": {},
   "outputs": [],
   "source": [
    "DF_ORIGINAL = pd.read_csv(\"../data/manga.csv\")"
   ]
  },
  {
   "cell_type": "markdown",
   "metadata": {},
   "source": [
    "Filling all null tag and genre features with zero, as that is their implicit value."
   ]
  },
  {
   "cell_type": "code",
   "execution_count": null,
   "metadata": {},
   "outputs": [],
   "source": [
    "ZEROABLE_NUMERIC_COLUMN_NAMES = list(DF_ORIGINAL.drop([\"id\",\"chapters\",\"volumes\",\"start_year\",\"start_month\",\"start_day\",\"end_year\",\"end_month\",\"end_day\"],axis=1).select_dtypes(include=['number']).columns.values)\n",
    "DEFAULT_ZEROES = [0] * len(ZEROABLE_NUMERIC_COLUMN_NAMES)\n",
    "NULL_MAP = dict(zip(ZEROABLE_NUMERIC_COLUMN_NAMES, DEFAULT_ZEROES))\n",
    "ZEROED_DF = DF_ORIGINAL.fillna(value=NULL_MAP)"
   ]
  },
  {
   "cell_type": "markdown",
   "metadata": {},
   "source": [
    "Computing target feature from data."
   ]
  },
  {
   "cell_type": "code",
   "execution_count": null,
   "metadata": {},
   "outputs": [],
   "source": [
    "SHOUNEN_TAG_PCT = ZEROED_DF[\"Shounen\"]\n",
    "SHOUJO_TAG_PCT = ZEROED_DF[\"Shoujo\"]\n",
    "SEINEN_TAG_PCT = ZEROED_DF[\"Seinen\"]\n",
    "JOSEI_TAG_PCT = ZEROED_DF[\"Josei\"]\n",
    "\n",
    "demo_col = []\n",
    "\n",
    "for x in range(ZEROED_DF.shape[0]):\n",
    "    demo_dict = {\"Shounen\": SHOUNEN_TAG_PCT[x],\n",
    "                 \"Shoujo\": SHOUJO_TAG_PCT[x],\n",
    "                 \"Seinen\": SEINEN_TAG_PCT[x],\n",
    "                 \"Josei\": JOSEI_TAG_PCT[x]}\n",
    "    \n",
    "    if sum(demo_dict.values()) > 0:   \n",
    "        max_vk = max(((v, k) for (k, v) in demo_dict.items()))\n",
    "        demo_label = max_vk[1]\n",
    "    else:\n",
    "        demo_label = None\n",
    "    \n",
    "    demo_col.append(demo_label)\n",
    "    \n",
    "DEMO_ADDED_DF = (ZEROED_DF\n",
    "                 .assign(demo_label = pd.Series(demo_col))\n",
    "                 .drop([\"Shounen\",\"Shoujo\",\"Seinen\",\"Josei\"], axis=1))"
   ]
  },
  {
   "cell_type": "markdown",
   "metadata": {},
   "source": [
    "# Full-dataset summaries\n",
    "\n",
    "Checking summary statistics on numeric features, excluding the media ID."
   ]
  },
  {
   "cell_type": "code",
   "execution_count": null,
   "metadata": {},
   "outputs": [],
   "source": [
    "# Display data frames interactively\n",
    "init_notebook_mode(all_interactive=True)\n",
    "\n",
    "# Computing summary statistics for numeric columns, excluding the ID, adding in an explicit percentage of null values.\n",
    "summary_df = DEMO_ADDED_DF.drop(\"id\", axis=1).describe(include=np.number)\n",
    "summary_df.loc[\"pct_null\"] = [f\"{pct:0.2%}\" for pct in DEMO_ADDED_DF\n",
    "                              .drop(\"id\", axis=1)\n",
    "                              .select_dtypes(include=np.number)\n",
    "                              .isna().mean().tolist()]\n",
    "summary_df = summary_df.transpose()\n",
    "summary_df"
   ]
  },
  {
   "cell_type": "markdown",
   "metadata": {},
   "source": [
    "Checking summary statistics for categorical features as well, excluding names of media."
   ]
  },
  {
   "cell_type": "code",
   "execution_count": null,
   "metadata": {},
   "outputs": [],
   "source": [
    "def cat_summary_frame(df, colname, naincl = False):\n",
    "\n",
    "    \"\"\"\n",
    "    Within the dataframe passed as the first argument to this function, \n",
    "    summarizes the count of each level of the feature whose name is \n",
    "    passed as the second argument, as well as the percentage of total \n",
    "    observations each count represents.\n",
    "    \"\"\"\n",
    "\n",
    "    summ_df = df.groupby(colname, dropna = naincl).size().to_frame().rename(columns={0: \"count\"})\n",
    "    summ_df = summ_df.assign(pct = round((summ_df[\"count\"] / summ_df[\"count\"].sum()) * 100, 2))\n",
    "    summ_df = summ_df.assign(pct = summ_df[\"pct\"].astype(\"string\"))\n",
    "    summ_df = summ_df.assign(pct = summ_df[\"pct\"] + \"%\")\n",
    "    return summ_df.sort_values(\"count\", ascending=False).reset_index()\n",
    "\n",
    "cat_summary_frame(DEMO_ADDED_DF, \"status\")"
   ]
  },
  {
   "cell_type": "code",
   "execution_count": null,
   "metadata": {},
   "outputs": [],
   "source": [
    "cat_summary_frame(DEMO_ADDED_DF, \"source\")"
   ]
  },
  {
   "cell_type": "code",
   "execution_count": null,
   "metadata": {},
   "outputs": [],
   "source": [
    "cat_summary_frame(DEMO_ADDED_DF, \"country\")"
   ]
  },
  {
   "cell_type": "code",
   "execution_count": null,
   "metadata": {},
   "outputs": [],
   "source": [
    "cat_summary_frame(DEMO_ADDED_DF, \"demo_label\")"
   ]
  },
  {
   "cell_type": "code",
   "execution_count": null,
   "metadata": {},
   "outputs": [],
   "source": [
    "# Running demo again to see the percentages of each label without missing data included.\n",
    "cat_summary_frame(DEMO_ADDED_DF, \"demo_label\", True)"
   ]
  },
  {
   "cell_type": "markdown",
   "metadata": {},
   "source": [
    "# Visualizing Data\n",
    "\n",
    "Visualizing our data will be significantly easier if we use principal component analysis to reduce the number of features. However, PCA runs the risk of diminishing the interpretability of any visualizations we create from the principal components. \n",
    "\n",
    "In order to balance these concerns, we will:\n",
    "1. Restrict our PCA feature reduction to tag features only, as they are both sparse and make up the majority of our features.\n",
    "2. Perform PCA within groupings of tags, using the groups AniList defines for tags as a guide."
   ]
  },
  {
   "cell_type": "code",
   "execution_count": null,
   "metadata": {},
   "outputs": [],
   "source": [
    "tag_appendix = pd.read_csv(\"../data/tag_reference.csv\")\n",
    "tag_appendix"
   ]
  },
  {
   "cell_type": "code",
   "execution_count": null,
   "metadata": {},
   "outputs": [],
   "source": [
    "cat_summary_frame(tag_appendix, \"category\")"
   ]
  },
  {
   "cell_type": "markdown",
   "metadata": {},
   "source": [
    "In order to reduce the number of categories slightly (and avoid giving individual tags their own category), after looking at our the tags contained within each category, we will merge and rename categories for clarity."
   ]
  },
  {
   "cell_type": "code",
   "execution_count": null,
   "metadata": {},
   "outputs": [],
   "source": [
    "tag_conditions = [\n",
    "    tag_appendix[\"category\"] == \"Cast-Main Cast\",\n",
    "    tag_appendix[\"category\"] == \"Cast-Traits\",\n",
    "    tag_appendix[\"category\"] == \"Demographic\",\n",
    "    tag_appendix[\"category\"] == \"Setting-Scene\",\n",
    "    tag_appendix[\"category\"] == \"Setting-Time\",\n",
    "    tag_appendix[\"category\"] == \"Setting-Universe\",\n",
    "    tag_appendix[\"category\"] == \"Theme-Arts-Music\",\n",
    "    tag_appendix[\"category\"] == \"Theme-Sci-Fi-Mecha\",\n",
    "    tag_appendix[\"category\"] == \"Theme-Game-Card & Board Game\",\n",
    "    tag_appendix[\"category\"] == \"Theme-Game-Sport\"\n",
    "]\n",
    "\n",
    "tag_choices = [\n",
    "    \"Cast\",\n",
    "    \"Cast\",\n",
    "    \"Technical\",\n",
    "    \"Setting\",\n",
    "    \"Setting\",\n",
    "    \"Setting\",\n",
    "    \"Theme-Arts\",\n",
    "    \"Theme-Sci-Fi\",\n",
    "    \"Theme-Game\",\n",
    "    \"Theme-Sport\"\n",
    "]\n",
    "\n",
    "tag_appendix_recat = tag_appendix.assign(category = np.select(condlist=tag_conditions, choicelist=tag_choices, default=tag_appendix[\"category\"])).drop(\"description\", axis=1)"
   ]
  },
  {
   "cell_type": "code",
   "execution_count": null,
   "metadata": {},
   "outputs": [],
   "source": [
    "cat_summary_frame(tag_appendix_recat, \"category\")"
   ]
  }
 ],
 "metadata": {
  "kernelspec": {
   "display_name": "Python 3",
   "language": "python",
   "name": "python3"
  },
  "language_info": {
   "codemirror_mode": {
    "name": "ipython",
    "version": 3
   },
   "file_extension": ".py",
   "mimetype": "text/x-python",
   "name": "python",
   "nbconvert_exporter": "python",
   "pygments_lexer": "ipython3",
   "version": "3.12.3"
  }
 },
 "nbformat": 4,
 "nbformat_minor": 2
}
